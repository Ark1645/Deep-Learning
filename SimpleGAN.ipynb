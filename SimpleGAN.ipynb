{
  "nbformat": 4,
  "nbformat_minor": 0,
  "metadata": {
    "colab": {
      "provenance": [],
      "gpuType": "T4",
      "authorship_tag": "ABX9TyOxfDAbJh5oBp9NvWh/0jyA",
      "include_colab_link": true
    },
    "kernelspec": {
      "name": "python3",
      "display_name": "Python 3"
    },
    "language_info": {
      "name": "python"
    },
    "accelerator": "GPU"
  },
  "cells": [
    {
      "cell_type": "markdown",
      "metadata": {
        "id": "view-in-github",
        "colab_type": "text"
      },
      "source": [
        "<a href=\"https://colab.research.google.com/github/Ark1645/Deep-Learning/blob/main/SimpleGAN.ipynb\" target=\"_parent\"><img src=\"https://colab.research.google.com/assets/colab-badge.svg\" alt=\"Open In Colab\"/></a>"
      ]
    },
    {
      "cell_type": "code",
      "execution_count": 1,
      "metadata": {
        "colab": {
          "base_uri": "https://localhost:8080/"
        },
        "id": "CUcdfwqFCOnT",
        "outputId": "1254da76-2761-48e5-ae0c-52dc2cd8f5ba"
      },
      "outputs": [
        {
          "output_type": "stream",
          "name": "stdout",
          "text": [
            "Downloading http://yann.lecun.com/exdb/mnist/train-images-idx3-ubyte.gz\n",
            "Failed to download (trying next):\n",
            "HTTP Error 403: Forbidden\n",
            "\n",
            "Downloading https://ossci-datasets.s3.amazonaws.com/mnist/train-images-idx3-ubyte.gz\n",
            "Downloading https://ossci-datasets.s3.amazonaws.com/mnist/train-images-idx3-ubyte.gz to dataset/MNIST/raw/train-images-idx3-ubyte.gz\n"
          ]
        },
        {
          "output_type": "stream",
          "name": "stderr",
          "text": [
            "100%|██████████| 9912422/9912422 [00:00<00:00, 15902259.95it/s]\n"
          ]
        },
        {
          "output_type": "stream",
          "name": "stdout",
          "text": [
            "Extracting dataset/MNIST/raw/train-images-idx3-ubyte.gz to dataset/MNIST/raw\n",
            "\n",
            "Downloading http://yann.lecun.com/exdb/mnist/train-labels-idx1-ubyte.gz\n",
            "Failed to download (trying next):\n",
            "HTTP Error 403: Forbidden\n",
            "\n",
            "Downloading https://ossci-datasets.s3.amazonaws.com/mnist/train-labels-idx1-ubyte.gz\n",
            "Downloading https://ossci-datasets.s3.amazonaws.com/mnist/train-labels-idx1-ubyte.gz to dataset/MNIST/raw/train-labels-idx1-ubyte.gz\n"
          ]
        },
        {
          "output_type": "stream",
          "name": "stderr",
          "text": [
            "100%|██████████| 28881/28881 [00:00<00:00, 478997.90it/s]\n"
          ]
        },
        {
          "output_type": "stream",
          "name": "stdout",
          "text": [
            "Extracting dataset/MNIST/raw/train-labels-idx1-ubyte.gz to dataset/MNIST/raw\n",
            "\n",
            "Downloading http://yann.lecun.com/exdb/mnist/t10k-images-idx3-ubyte.gz\n",
            "Failed to download (trying next):\n",
            "HTTP Error 403: Forbidden\n",
            "\n",
            "Downloading https://ossci-datasets.s3.amazonaws.com/mnist/t10k-images-idx3-ubyte.gz\n",
            "Downloading https://ossci-datasets.s3.amazonaws.com/mnist/t10k-images-idx3-ubyte.gz to dataset/MNIST/raw/t10k-images-idx3-ubyte.gz\n"
          ]
        },
        {
          "output_type": "stream",
          "name": "stderr",
          "text": [
            "100%|██████████| 1648877/1648877 [00:00<00:00, 4405343.44it/s]\n"
          ]
        },
        {
          "output_type": "stream",
          "name": "stdout",
          "text": [
            "Extracting dataset/MNIST/raw/t10k-images-idx3-ubyte.gz to dataset/MNIST/raw\n",
            "\n",
            "Downloading http://yann.lecun.com/exdb/mnist/t10k-labels-idx1-ubyte.gz\n",
            "Failed to download (trying next):\n",
            "HTTP Error 403: Forbidden\n",
            "\n",
            "Downloading https://ossci-datasets.s3.amazonaws.com/mnist/t10k-labels-idx1-ubyte.gz\n",
            "Downloading https://ossci-datasets.s3.amazonaws.com/mnist/t10k-labels-idx1-ubyte.gz to dataset/MNIST/raw/t10k-labels-idx1-ubyte.gz\n"
          ]
        },
        {
          "output_type": "stream",
          "name": "stderr",
          "text": [
            "100%|██████████| 4542/4542 [00:00<00:00, 4542329.22it/s]\n"
          ]
        },
        {
          "output_type": "stream",
          "name": "stdout",
          "text": [
            "Extracting dataset/MNIST/raw/t10k-labels-idx1-ubyte.gz to dataset/MNIST/raw\n",
            "\n",
            "Epoch [0/50] Batch 0/1875                       Loss D: 0.7205, loss G: 0.7207\n",
            "Epoch [1/50] Batch 0/1875                       Loss D: 0.8656, loss G: 0.6826\n",
            "Epoch [2/50] Batch 0/1875                       Loss D: 0.4174, loss G: 1.0410\n",
            "Epoch [3/50] Batch 0/1875                       Loss D: 0.7261, loss G: 0.8199\n",
            "Epoch [4/50] Batch 0/1875                       Loss D: 0.6295, loss G: 1.2668\n",
            "Epoch [5/50] Batch 0/1875                       Loss D: 0.8168, loss G: 0.7215\n",
            "Epoch [6/50] Batch 0/1875                       Loss D: 0.7058, loss G: 0.9796\n",
            "Epoch [7/50] Batch 0/1875                       Loss D: 0.5219, loss G: 1.1745\n",
            "Epoch [8/50] Batch 0/1875                       Loss D: 0.7732, loss G: 0.7605\n",
            "Epoch [9/50] Batch 0/1875                       Loss D: 0.6984, loss G: 1.0528\n",
            "Epoch [10/50] Batch 0/1875                       Loss D: 0.6074, loss G: 1.1081\n",
            "Epoch [11/50] Batch 0/1875                       Loss D: 0.6685, loss G: 1.4842\n",
            "Epoch [12/50] Batch 0/1875                       Loss D: 0.3396, loss G: 1.8230\n",
            "Epoch [13/50] Batch 0/1875                       Loss D: 0.6546, loss G: 0.9582\n",
            "Epoch [14/50] Batch 0/1875                       Loss D: 0.6916, loss G: 0.9770\n",
            "Epoch [15/50] Batch 0/1875                       Loss D: 0.5224, loss G: 1.3201\n",
            "Epoch [16/50] Batch 0/1875                       Loss D: 0.5538, loss G: 1.8759\n",
            "Epoch [17/50] Batch 0/1875                       Loss D: 0.5472, loss G: 1.1101\n",
            "Epoch [18/50] Batch 0/1875                       Loss D: 0.4298, loss G: 1.4501\n",
            "Epoch [19/50] Batch 0/1875                       Loss D: 0.3450, loss G: 1.8838\n",
            "Epoch [20/50] Batch 0/1875                       Loss D: 0.6199, loss G: 1.5556\n",
            "Epoch [21/50] Batch 0/1875                       Loss D: 0.4194, loss G: 1.4618\n",
            "Epoch [22/50] Batch 0/1875                       Loss D: 0.4377, loss G: 1.7459\n",
            "Epoch [23/50] Batch 0/1875                       Loss D: 0.4671, loss G: 1.8555\n",
            "Epoch [24/50] Batch 0/1875                       Loss D: 0.5263, loss G: 1.3765\n",
            "Epoch [25/50] Batch 0/1875                       Loss D: 0.5078, loss G: 1.6476\n",
            "Epoch [26/50] Batch 0/1875                       Loss D: 0.5502, loss G: 1.4089\n",
            "Epoch [27/50] Batch 0/1875                       Loss D: 0.4354, loss G: 1.6101\n",
            "Epoch [28/50] Batch 0/1875                       Loss D: 0.5901, loss G: 1.6225\n",
            "Epoch [29/50] Batch 0/1875                       Loss D: 0.5462, loss G: 1.6908\n",
            "Epoch [30/50] Batch 0/1875                       Loss D: 0.5373, loss G: 1.6151\n",
            "Epoch [31/50] Batch 0/1875                       Loss D: 0.7176, loss G: 1.2876\n",
            "Epoch [32/50] Batch 0/1875                       Loss D: 0.4227, loss G: 1.5296\n",
            "Epoch [33/50] Batch 0/1875                       Loss D: 0.7401, loss G: 1.2276\n",
            "Epoch [34/50] Batch 0/1875                       Loss D: 0.6321, loss G: 1.3545\n",
            "Epoch [35/50] Batch 0/1875                       Loss D: 0.5773, loss G: 1.6655\n",
            "Epoch [36/50] Batch 0/1875                       Loss D: 0.3546, loss G: 1.5313\n",
            "Epoch [37/50] Batch 0/1875                       Loss D: 0.7734, loss G: 0.8935\n",
            "Epoch [38/50] Batch 0/1875                       Loss D: 0.5630, loss G: 1.3163\n",
            "Epoch [39/50] Batch 0/1875                       Loss D: 0.5342, loss G: 1.6808\n",
            "Epoch [40/50] Batch 0/1875                       Loss D: 0.5690, loss G: 1.3820\n",
            "Epoch [41/50] Batch 0/1875                       Loss D: 0.7037, loss G: 1.4195\n",
            "Epoch [42/50] Batch 0/1875                       Loss D: 0.5698, loss G: 0.9708\n",
            "Epoch [43/50] Batch 0/1875                       Loss D: 0.7370, loss G: 1.0583\n",
            "Epoch [44/50] Batch 0/1875                       Loss D: 0.5274, loss G: 1.3021\n",
            "Epoch [45/50] Batch 0/1875                       Loss D: 0.5818, loss G: 1.3629\n",
            "Epoch [46/50] Batch 0/1875                       Loss D: 0.5919, loss G: 1.1742\n",
            "Epoch [47/50] Batch 0/1875                       Loss D: 0.6230, loss G: 0.8850\n",
            "Epoch [48/50] Batch 0/1875                       Loss D: 0.5207, loss G: 1.3123\n",
            "Epoch [49/50] Batch 0/1875                       Loss D: 0.6588, loss G: 0.9811\n"
          ]
        }
      ],
      "source": [
        "import torch\n",
        "import torch.nn as nn\n",
        "import torch.optim as optim\n",
        "import torchvision\n",
        "import torchvision.datasets as datasets\n",
        "from torch.utils.data import DataLoader\n",
        "import torchvision.transforms as transforms\n",
        "from torch.utils.tensorboard import SummaryWriter  # to print to tensorboard\n",
        "\n",
        "\n",
        "class Discriminator(nn.Module):\n",
        "    def __init__(self, in_features):\n",
        "        super().__init__()\n",
        "        self.disc = nn.Sequential(\n",
        "            nn.Linear(in_features, 128),\n",
        "            nn.LeakyReLU(0.01),\n",
        "            nn.Linear(128, 1),\n",
        "            nn.Sigmoid(),\n",
        "        )\n",
        "\n",
        "    def forward(self, x):\n",
        "        return self.disc(x)\n",
        "\n",
        "\n",
        "class Generator(nn.Module):\n",
        "    def __init__(self, z_dim, img_dim):\n",
        "        super().__init__()\n",
        "        self.gen = nn.Sequential(\n",
        "            nn.Linear(z_dim, 256),\n",
        "            nn.LeakyReLU(0.01),\n",
        "            nn.Linear(256, img_dim),\n",
        "            nn.Tanh(),  # normalize inputs to [-1, 1] so make outputs [-1, 1]\n",
        "        )\n",
        "\n",
        "    def forward(self, x):\n",
        "        return self.gen(x)\n",
        "\n",
        "\n",
        "# Hyperparameters etc.\n",
        "device = \"cuda\" if torch.cuda.is_available() else \"cpu\"\n",
        "lr = 3e-4\n",
        "z_dim = 64\n",
        "image_dim = 28 * 28 * 1  # 784\n",
        "batch_size = 32\n",
        "num_epochs = 50\n",
        "\n",
        "disc = Discriminator(image_dim).to(device)\n",
        "gen = Generator(z_dim, image_dim).to(device)\n",
        "fixed_noise = torch.randn((batch_size, z_dim)).to(device)\n",
        "transforms = transforms.Compose(\n",
        "    [\n",
        "        transforms.ToTensor(),\n",
        "        transforms.Normalize((0.5,), (0.5,)),\n",
        "    ]\n",
        ")\n",
        "\n",
        "dataset = datasets.MNIST(root=\"dataset/\", transform=transforms, download=True)\n",
        "loader = DataLoader(dataset, batch_size=batch_size, shuffle=True)\n",
        "opt_disc = optim.Adam(disc.parameters(), lr=lr)\n",
        "opt_gen = optim.Adam(gen.parameters(), lr=lr)\n",
        "criterion = nn.BCELoss()\n",
        "writer_fake = SummaryWriter(f\"logs/fake\")\n",
        "writer_real = SummaryWriter(f\"logs/real\")\n",
        "step = 0\n",
        "\n",
        "for epoch in range(num_epochs):\n",
        "    for batch_idx, (real, _) in enumerate(loader):\n",
        "        real = real.view(-1, 784).to(device)\n",
        "        batch_size = real.shape[0]\n",
        "\n",
        "        ### Train Discriminator: max log(D(x)) + log(1 - D(G(z)))\n",
        "        noise = torch.randn(batch_size, z_dim).to(device)\n",
        "        fake = gen(noise)\n",
        "        disc_real = disc(real).view(-1)\n",
        "        lossD_real = criterion(disc_real, torch.ones_like(disc_real))\n",
        "        disc_fake = disc(fake).view(-1)\n",
        "        lossD_fake = criterion(disc_fake, torch.zeros_like(disc_fake))\n",
        "        lossD = (lossD_real + lossD_fake) / 2\n",
        "        disc.zero_grad()\n",
        "        lossD.backward(retain_graph=True)\n",
        "        opt_disc.step()\n",
        "\n",
        "        #Train Generator: min log(1 - D(G(z))) <-> max log(D(G(z))\n",
        "        # where the second option of maximizing doesn't suffer from\n",
        "        # saturating gradients\n",
        "        output = disc(fake).view(-1)\n",
        "        lossG = criterion(output, torch.ones_like(output))\n",
        "        gen.zero_grad()\n",
        "        lossG.backward()\n",
        "        opt_gen.step()\n",
        "\n",
        "        if batch_idx == 0:\n",
        "            print(\n",
        "                f\"Epoch [{epoch}/{num_epochs}] Batch {batch_idx}/{len(loader)} \\\n",
        "                      Loss D: {lossD:.4f}, loss G: {lossG:.4f}\"\n",
        "            )\n",
        "\n",
        "            with torch.no_grad():\n",
        "                fake = gen(fixed_noise).reshape(-1, 1, 28, 28)\n",
        "                data = real.reshape(-1, 1, 28, 28)\n",
        "                img_grid_fake = torchvision.utils.make_grid(fake, normalize=True)\n",
        "                img_grid_real = torchvision.utils.make_grid(data, normalize=True)\n",
        "\n",
        "                writer_fake.add_image(\n",
        "                    \"Mnist Fake Images\", img_grid_fake, global_step=step\n",
        "                )\n",
        "                writer_real.add_image(\n",
        "                    \"Mnist Real Images\", img_grid_real, global_step=step\n",
        "                )\n",
        "                step += 1"
      ]
    }
  ]
}